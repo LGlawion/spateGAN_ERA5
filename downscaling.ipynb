{
 "cells": [
  {
   "cell_type": "markdown",
   "id": "e2b1934b",
   "metadata": {},
   "source": [
    "#### spateGAN-ERA5 spatiotemporal precipitation downscaling example\n",
    "https://doi.org/10.48550/arXiv.2411.16098"
   ]
  },
  {
   "cell_type": "code",
   "execution_count": null,
   "id": "6a9cb56e-a51d-4709-aa0c-4521887d90b1",
   "metadata": {},
   "outputs": [],
   "source": [
    "%load_ext autoreload\n",
    "%autoreload 2\n",
    "import torch\n",
    "from model import Generator  \n",
    "from inference import InferenceEngine"
   ]
  },
  {
   "cell_type": "code",
   "execution_count": null,
   "id": "8288442a-e03c-41d2-a166-6e5972b4b3e0",
   "metadata": {},
   "outputs": [],
   "source": [
    "device = torch.device('cuda' if torch.cuda.is_available() else 'cpu')\n",
    "print(device)"
   ]
  },
  {
   "cell_type": "markdown",
   "id": "3b35eeef-7193-4377-917f-6d9335757717",
   "metadata": {},
   "source": [
    "#### load model and weights"
   ]
  },
  {
   "cell_type": "code",
   "execution_count": null,
   "id": "b77a3d8b-e087-40ec-9980-f013ea90bce6",
   "metadata": {},
   "outputs": [],
   "source": [
    "spateGAN_era5 = Generator().to(device)"
   ]
  },
  {
   "cell_type": "code",
   "execution_count": null,
   "id": "2f841fe7-49c4-435e-8897-0d7a6d6947f4",
   "metadata": {},
   "outputs": [],
   "source": [
    "model_path = 'model_weights/model_weights.pt'"
   ]
  },
  {
   "cell_type": "code",
   "execution_count": null,
   "id": "31865248-d13b-4902-96a5-0acdaea40979",
   "metadata": {},
   "outputs": [],
   "source": [
    "# Load the state_dict\n",
    "checkpoint = torch.load(model_path, weights_only=True)\n",
    "spateGAN_era5.load_state_dict(checkpoint, strict=True)\n",
    "spateGAN_era5.eval()\n",
    "print(\"Model weights loaded successfully.\")"
   ]
  },
  {
   "cell_type": "markdown",
   "id": "202acce6-9009-4feb-9992-f75fb1f3b0c0",
   "metadata": {},
   "source": [
    "#### Load example dataset\n",
    "Model expects ERA5 input data, projected to a regular 24x24 km grid. \\\n",
    "Target radar observations lay on a regular 2x2 km grid, 10 min. resolution"
   ]
  },
  {
   "cell_type": "code",
   "execution_count": null,
   "id": "5514ab63-0d8e-4131-b719-f0d61d1662aa",
   "metadata": {},
   "outputs": [],
   "source": [
    "import xarray as xr\n",
    "import numpy as np\n",
    "from einops import rearrange"
   ]
  },
  {
   "cell_type": "code",
   "execution_count": null,
   "id": "cfed9490-fcc4-4aa9-be1c-529b42af1a3f",
   "metadata": {},
   "outputs": [],
   "source": [
    "ds_test_y = xr.open_dataset('data/y_test.nc').load()\n",
    "ds_test_x = xr.open_dataset('data/x_test.nc').load()"
   ]
  },
  {
   "cell_type": "code",
   "execution_count": null,
   "id": "1db785cd-94dd-42c2-b121-8d6f2faa8ca2",
   "metadata": {},
   "outputs": [],
   "source": [
    "x_test = np.stack([ds_test_x.cp.values, ds_test_x.lsp.values])\n",
    "x_test = rearrange(x_test, 'c t h w -> 1 c t h w')\n",
    "y_test = rearrange(ds_test_y.rainfall_amount.values, 't h w -> 1 1 t h w')"
   ]
  },
  {
   "cell_type": "markdown",
   "id": "f2f6ea59-d732-446f-967c-adb0df3117aa",
   "metadata": {},
   "source": [
    "#### Downscale data to 2x2km & 10 min resolution\n",
    "\n",
    "Patchsizes:\\\n",
    "x: (batch, channels, time, width, height) = (batch, 2, 16, 28, 28) = (batch, CP & LSP, 16hr, 672km, 672km) \\\n",
    "y: (batch, channels, time, width, height) = (batch, 1, 48, 168, 168) = (batch,TP, 8hr, 336km, 336km) --> cropped to (batch,TP, 6hr, 288km, 288km)"
   ]
  },
  {
   "cell_type": "code",
   "execution_count": null,
   "id": "2f23ac50-8252-4a8a-bb07-33147dc62d8f",
   "metadata": {},
   "outputs": [],
   "source": [
    "# Initialize InferenceEngine\n",
    "engine = InferenceEngine(spateGAN_era5)"
   ]
  },
  {
   "cell_type": "code",
   "execution_count": null,
   "id": "8cf4c0af-5502-47d0-881a-6c2c1f2a559e",
   "metadata": {},
   "outputs": [],
   "source": [
    "# Perform inference\n",
    "prediction, target, era5 = engine.infer(x_test, target=y_test, seed=4)"
   ]
  },
  {
   "cell_type": "markdown",
   "id": "d5f42b5a-2bad-48db-95ae-e657828a8f86",
   "metadata": {},
   "source": [
    "#### Plot results"
   ]
  },
  {
   "cell_type": "code",
   "execution_count": null,
   "id": "13208d00-a1ef-4df9-b80b-bcd791957b68",
   "metadata": {},
   "outputs": [],
   "source": [
    "import matplotlib.pyplot as plt\n",
    "from matplotlib import gridspec"
   ]
  },
  {
   "cell_type": "code",
   "execution_count": null,
   "id": "3e9b8617",
   "metadata": {},
   "outputs": [],
   "source": [
    "timestep = 100\n",
    "vmax = 20\n",
    "vmin = 0.01"
   ]
  },
  {
   "cell_type": "code",
   "execution_count": null,
   "id": "bea967a1-aea9-452c-b550-2bef847f5f3b",
   "metadata": {},
   "outputs": [],
   "source": [
    "fig = plt.figure(figsize=(14, 7))\n",
    "gs = gridspec.GridSpec(3, 7, figure=fig, width_ratios=[1]*6 + [0.05])\n",
    "\n",
    "# Plot ERA5 TP data\n",
    "ax = fig.add_subplot(gs[0,0])\n",
    "img = ax.imshow(era5[timestep//6], cmap='turbo', vmin=vmin, vmax=vmax)\n",
    "ax.set_title(f\"ERA5 TP, t\")\n",
    "ax.axis('off') \n",
    "\n",
    "axes_tar = []\n",
    "for j in range(6):\n",
    "    ax = fig.add_subplot(gs[1, j])\n",
    "    axes_tar.append(ax)\n",
    "\n",
    "axes_pred = []\n",
    "for j in range(6):\n",
    "    ax = fig.add_subplot(gs[2, j])\n",
    "    axes_pred.append(ax)\n",
    "\n",
    "\n",
    "# Plot RADKLIM-YW data\n",
    "for i, ax in enumerate(axes_tar):\n",
    "    img = ax.imshow(target[timestep+i], cmap='turbo', vmin=vmin, vmax=vmax)\n",
    "    if i == 0:\n",
    "        ax.set_title(f\"RADKLIM-YW t+{i*10}min.\")\n",
    "    else:\n",
    "        ax.set_title(f\"t+{i*10}min.\")\n",
    "    ax.axis('off') \n",
    "\n",
    "# Plot predictions\n",
    "for i, ax in enumerate(axes_pred):\n",
    "    img = ax.imshow(prediction[timestep+i], cmap='turbo', vmin=vmin, vmax=vmax)\n",
    "    if i == 0:\n",
    "        ax.set_title(f\"spateGAN-ERA5 t+{i*10}min.\")\n",
    "    else:\n",
    "        ax.set_title(f\"t+{i*10}min.\")\n",
    "    ax.axis('off')  \n",
    "\n",
    "# Add the colorbar\n",
    "colorbar_ax = fig.add_subplot(gs[-1, 6]) \n",
    "fig.colorbar(img, cax=colorbar_ax, label='Rain [mm/h]')  \n",
    "\n",
    "plt.tight_layout()\n",
    "plt.show()\n"
   ]
  }
 ],
 "metadata": {
  "kernelspec": {
   "display_name": "polradnet",
   "language": "python",
   "name": "python3"
  },
  "language_info": {
   "codemirror_mode": {
    "name": "ipython",
    "version": 3
   },
   "file_extension": ".py",
   "mimetype": "text/x-python",
   "name": "python",
   "nbconvert_exporter": "python",
   "pygments_lexer": "ipython3",
   "version": "3.13.0"
  }
 },
 "nbformat": 4,
 "nbformat_minor": 5
}
